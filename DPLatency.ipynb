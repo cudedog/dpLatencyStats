{
 "cells": [
  {
   "cell_type": "markdown",
   "metadata": {},
   "source": [
    "# DataPower Latency Logs into Pandas #\n",
    "\n",
    "This notebook describes how to read DataPower latency logs into\n",
    "a Python [Pandas](http://pandas.pydata.org/) data frame."
   ]
  },
  {
   "cell_type": "markdown",
   "metadata": {},
   "source": [
    "## Convert Latency Log to CSV ##\n",
    "\n",
    "Convert the latency log created by DataPower into a CSV file.\n",
    "File names are hard-coded for the demo."
   ]
  },
  {
   "cell_type": "code",
   "execution_count": 1,
   "metadata": {
    "collapsed": true
   },
   "outputs": [],
   "source": [
    "import re"
   ]
  },
  {
   "cell_type": "code",
   "execution_count": 2,
   "metadata": {
    "collapsed": true
   },
   "outputs": [],
   "source": [
    "reg = re.compile(r'\\w\\w\\w (\\w\\w\\w \\d\\d \\d\\d\\d\\d \\d\\d:\\d\\d:\\d\\d) \\[0x80e00073\\]\\[latency\\]\\[info\\] \\w+\\(([^)]+)\\): tid\\((\\d+)\\).+ Latency:\\s+(\\d+)\\s+(\\d+)\\s+(\\d+)\\s+(\\d+)\\s+(\\d+)\\s+(\\d+)\\s+(\\d+)\\s+(\\d+)\\s+(\\d+)\\s+(\\d+)\\s+(\\d+)\\s+(\\d+)\\s+(\\d+)\\s+(\\d+)\\s+(\\d+)\\s+(\\d+)\\s+\\[(https?://[^/]+)([^?]+)?(\\?.+)?\\]')"
   ]
  },
  {
   "cell_type": "markdown",
   "metadata": {},
   "source": [
    "That was an insane regular expression to divide up a DataPower latency line into\n",
    "individual fields we care about.  A raw latency line looks like this.\n",
    "\n",
    "```\n",
    "Wed Dec 02 2015 07:03:23 [0x80e00073][latency][info] mpgw(proxy-mpgw): tid(77904)[192.168.152.1] gtid(77904): Latency:   0 580   0  15  15  10   0 580 595 580 595 595 589 580  15 580 [http://192.168.152.24:8082/request3?t=563]\n",
    "```\n",
    "\n",
    "The following steps show how the regular expressions chops it up.\n",
    "\n",
    "1. `\\w\\w\\w (\\w\\w\\w \\d\\d \\d\\d\\d\\d \\d\\d:\\d\\d:\\d\\d)` - This is the first\n",
    "   grouping.  It makes the date (not including the week day) the first\n",
    "   element.\n",
    "2. `\\[0x80e00073\\]\\[latency\\]\\[info\\] \\w+\\(([^)]+)\\)` - This skips a\n",
    "   bunch of constants and captures the name of the MPGW.  It expects\n",
    "   it to be between the matching parenthesis.\n",
    "3. `: tid\\((\\d+)\\)` - This captures the Transaction ID.\n",
    "4. `.+ Latency:` - This makes sure we're matching a Latency record.\n",
    "   The constant in Step 2 probably did this already.  The space before\n",
    "   the capital `L` makes sure this is not an extended latency record.\n",
    "5. `\\s+(\\d+)\\s+(\\d+)\\s+(\\d+)\\s+(\\d+)\\s+(\\d+)\\s+(\\d+)\\s+(\\d+)\\s+(\\d+)\\s+(\\d+)\\s+(\\d+)\\s+(\\d+)\\s+(\\d+)\\s+(\\d+)\\s+(\\d+)\\s+(\\d+)\\s+(\\d+)` - These are the 16 numbers\n",
    "   separated by spaces.\n",
    "6. `\\s+\\[(https?://[^/]+)` - this matches the host and port.\n",
    "7. `([^?]+)?` - this matches the optional URI after the host.\n",
    "8. `(\\?.+)?` - this matches an optional parameter list.\n",
    "9. `\\]` - The expression should end with a square bracket.\n",
    "\n",
    "There are usually lots of other lines that are not latency entries.  So the regex\n",
    "will pluck out only the latency log entries and group the fields for us.  Our raw\n",
    "log is `sample5.log`."
   ]
  },
  {
   "cell_type": "code",
   "execution_count": 3,
   "metadata": {
    "collapsed": true
   },
   "outputs": [],
   "source": [
    "dplog  = open('sample5.log', 'r')\n",
    "output = open('sample5.csv', 'w')\n",
    "output.write('Time,ProxyName,TxnID,1,2,3,4,5,6,7,8,9,10,11,12,13,14,15,16,url,uri,q\\n')\n",
    "lines_processed = 0"
   ]
  },
  {
   "cell_type": "code",
   "execution_count": 4,
   "metadata": {
    "collapsed": false
   },
   "outputs": [
    {
     "data": {
      "text/plain": [
       "'Tue Dec 01 2015 21:34:26 [0x80e00073][latency][info] mpgw(proxy-mpgw): tid(84483)[192.168.152.1] gtid(84483): Latency:   0 450   0  18  18  13   0 450 462 450 462 462 457 450  18 450 [http://192.168.152.24:8082/request5?t=429]\\r\\n'"
      ]
     },
     "execution_count": 4,
     "metadata": {},
     "output_type": "execute_result"
    }
   ],
   "source": [
    "line = dplog.readline()\n",
    "line"
   ]
  },
  {
   "cell_type": "markdown",
   "metadata": {},
   "source": [
    "Check if the line matches our regex."
   ]
  },
  {
   "cell_type": "code",
   "execution_count": 5,
   "metadata": {
    "collapsed": false
   },
   "outputs": [
    {
     "data": {
      "text/plain": [
       "<_sre.SRE_Match at 0x106a69750>"
      ]
     },
     "execution_count": 5,
     "metadata": {},
     "output_type": "execute_result"
    }
   ],
   "source": [
    "fields = reg.match(line)\n",
    "fields"
   ]
  },
  {
   "cell_type": "markdown",
   "metadata": {},
   "source": [
    "When we get an object reference like this (not a `None`), that's a match.\n",
    "Let's see what our grouping looks like given the input line above."
   ]
  },
  {
   "cell_type": "code",
   "execution_count": 6,
   "metadata": {
    "collapsed": false
   },
   "outputs": [
    {
     "data": {
      "text/plain": [
       "('Dec 01 2015 21:34:26',\n",
       " 'proxy-mpgw',\n",
       " '84483',\n",
       " '0',\n",
       " '450',\n",
       " '0',\n",
       " '18',\n",
       " '18',\n",
       " '13',\n",
       " '0',\n",
       " '450',\n",
       " '462',\n",
       " '450',\n",
       " '462',\n",
       " '462',\n",
       " '457',\n",
       " '450',\n",
       " '18',\n",
       " '450',\n",
       " 'http://192.168.152.24:8082',\n",
       " '/request5',\n",
       " '?t=429')"
      ]
     },
     "execution_count": 6,
     "metadata": {},
     "output_type": "execute_result"
    }
   ],
   "source": [
    "fields.groups()"
   ]
  },
  {
   "cell_type": "markdown",
   "metadata": {},
   "source": [
    "This all looks good.  So let's create a comma-separated line from this\n",
    "and send it to the output file."
   ]
  },
  {
   "cell_type": "code",
   "execution_count": 7,
   "metadata": {
    "collapsed": false
   },
   "outputs": [
    {
     "data": {
      "text/plain": [
       "'Dec 01 2015 21:34:26,proxy-mpgw,84483,0,450,0,18,18,13,0,450,462,450,462,462,457,450,18,450,http://192.168.152.24:8082,/request5,?t=429'"
      ]
     },
     "execution_count": 7,
     "metadata": {},
     "output_type": "execute_result"
    }
   ],
   "source": [
    "csvline = ','.join(fields.groups())\n",
    "csvline"
   ]
  },
  {
   "cell_type": "code",
   "execution_count": 8,
   "metadata": {
    "collapsed": true
   },
   "outputs": [],
   "source": [
    "output.write(csvline + '\\n')\n",
    "lines_processed += 1"
   ]
  },
  {
   "cell_type": "markdown",
   "metadata": {},
   "source": [
    "Now do this for the rest of the file."
   ]
  },
  {
   "cell_type": "code",
   "execution_count": 9,
   "metadata": {
    "collapsed": false
   },
   "outputs": [
    {
     "name": "stdout",
     "output_type": "stream",
     "text": [
      "Processed 150 lines.\n"
     ]
    }
   ],
   "source": [
    "for line in dplog:\n",
    "    fields = reg.match(line)\n",
    "    if fields != None:\n",
    "        csvline = ','.join(fields.groups())\n",
    "        output.write(csvline + '\\n')\n",
    "        lines_processed += 1\n",
    "\n",
    "print(\"Processed {0} lines.\".format(lines_processed))"
   ]
  },
  {
   "cell_type": "code",
   "execution_count": 10,
   "metadata": {
    "collapsed": true
   },
   "outputs": [],
   "source": [
    "dplog.close()\n",
    "output.close()"
   ]
  },
  {
   "cell_type": "code",
   "execution_count": 13,
   "metadata": {
    "collapsed": false
   },
   "outputs": [
    {
     "name": "stdout",
     "output_type": "stream",
     "text": [
      "Time,ProxyName,TxnID,1,2,3,4,5,6,7,8,9,10,11,12,13,14,15,16,url,uri,q\r\n",
      "Dec 01 2015 21:34:26,proxy-mpgw,84483,0,450,0,18,18,13,0,450,462,450,462,462,457,450,18,450,http://192.168.152.24:8082,/request5,?t=429\r\n",
      "Dec 01 2015 21:34:28,proxy-mpgw,89186,0,246,0,14,14,9,0,246,259,246,259,259,254,246,14,246,http://192.168.152.24:8082,/request1,?t=229\r\n",
      "Dec 01 2015 21:34:28,proxy-mpgw,89170,0,1887,0,13,13,7,0,1887,1900,1887,1900,1900,1896,1887,13,1887,http://192.168.152.24:8082,/request4,?t=1871\r\n",
      "Dec 01 2015 21:34:28,proxy-mpgw,84515,0,1988,0,14,14,8,0,1988,2000,1988,2000,2001,1996,1988,14,1988,http://192.168.152.24:8082,/request1,?t=1971\r\n"
     ]
    }
   ],
   "source": [
    "!head -n 5 sample5.csv"
   ]
  },
  {
   "cell_type": "markdown",
   "metadata": {},
   "source": [
    "From here we may switch to R or continue with Pandas.\n",
    "Since this is an IPython notebook, we'll go with Pandas.\n",
    "\n",
    "## Creating Pandas Data Frames from CSV ##\n"
   ]
  },
  {
   "cell_type": "code",
   "execution_count": 1,
   "metadata": {
    "collapsed": true
   },
   "outputs": [],
   "source": [
    "import numpy as np\n",
    "import pandas as pd\n",
    "from matplotlib import pyplot as plt\n",
    "%matplotlib inline"
   ]
  },
  {
   "cell_type": "markdown",
   "metadata": {},
   "source": [
    "Create a Pandas data frame from the CSV and indicate that the `Time` field\n",
    "is to be parsed as a Numpy `datetime64`."
   ]
  },
  {
   "cell_type": "code",
   "execution_count": 2,
   "metadata": {
    "collapsed": false
   },
   "outputs": [
    {
     "data": {
      "text/html": [
       "<div>\n",
       "<table border=\"1\" class=\"dataframe\">\n",
       "  <thead>\n",
       "    <tr style=\"text-align: right;\">\n",
       "      <th></th>\n",
       "      <th>Time</th>\n",
       "      <th>ProxyName</th>\n",
       "      <th>TxnID</th>\n",
       "      <th>1</th>\n",
       "      <th>2</th>\n",
       "      <th>3</th>\n",
       "      <th>4</th>\n",
       "      <th>5</th>\n",
       "      <th>6</th>\n",
       "      <th>7</th>\n",
       "      <th>...</th>\n",
       "      <th>10</th>\n",
       "      <th>11</th>\n",
       "      <th>12</th>\n",
       "      <th>13</th>\n",
       "      <th>14</th>\n",
       "      <th>15</th>\n",
       "      <th>16</th>\n",
       "      <th>url</th>\n",
       "      <th>uri</th>\n",
       "      <th>q</th>\n",
       "    </tr>\n",
       "  </thead>\n",
       "  <tbody>\n",
       "    <tr>\n",
       "      <th>0</th>\n",
       "      <td>2015-12-01 21:34:26</td>\n",
       "      <td>proxy-mpgw</td>\n",
       "      <td>84483</td>\n",
       "      <td>0</td>\n",
       "      <td>450</td>\n",
       "      <td>0</td>\n",
       "      <td>18</td>\n",
       "      <td>18</td>\n",
       "      <td>13</td>\n",
       "      <td>0</td>\n",
       "      <td>...</td>\n",
       "      <td>450</td>\n",
       "      <td>462</td>\n",
       "      <td>462</td>\n",
       "      <td>457</td>\n",
       "      <td>450</td>\n",
       "      <td>18</td>\n",
       "      <td>450</td>\n",
       "      <td>http://192.168.152.24:8082</td>\n",
       "      <td>/request5</td>\n",
       "      <td>?t=429</td>\n",
       "    </tr>\n",
       "    <tr>\n",
       "      <th>1</th>\n",
       "      <td>2015-12-01 21:34:28</td>\n",
       "      <td>proxy-mpgw</td>\n",
       "      <td>89186</td>\n",
       "      <td>0</td>\n",
       "      <td>246</td>\n",
       "      <td>0</td>\n",
       "      <td>14</td>\n",
       "      <td>14</td>\n",
       "      <td>9</td>\n",
       "      <td>0</td>\n",
       "      <td>...</td>\n",
       "      <td>246</td>\n",
       "      <td>259</td>\n",
       "      <td>259</td>\n",
       "      <td>254</td>\n",
       "      <td>246</td>\n",
       "      <td>14</td>\n",
       "      <td>246</td>\n",
       "      <td>http://192.168.152.24:8082</td>\n",
       "      <td>/request1</td>\n",
       "      <td>?t=229</td>\n",
       "    </tr>\n",
       "    <tr>\n",
       "      <th>2</th>\n",
       "      <td>2015-12-01 21:34:28</td>\n",
       "      <td>proxy-mpgw</td>\n",
       "      <td>89170</td>\n",
       "      <td>0</td>\n",
       "      <td>1887</td>\n",
       "      <td>0</td>\n",
       "      <td>13</td>\n",
       "      <td>13</td>\n",
       "      <td>7</td>\n",
       "      <td>0</td>\n",
       "      <td>...</td>\n",
       "      <td>1887</td>\n",
       "      <td>1900</td>\n",
       "      <td>1900</td>\n",
       "      <td>1896</td>\n",
       "      <td>1887</td>\n",
       "      <td>13</td>\n",
       "      <td>1887</td>\n",
       "      <td>http://192.168.152.24:8082</td>\n",
       "      <td>/request4</td>\n",
       "      <td>?t=1871</td>\n",
       "    </tr>\n",
       "    <tr>\n",
       "      <th>3</th>\n",
       "      <td>2015-12-01 21:34:28</td>\n",
       "      <td>proxy-mpgw</td>\n",
       "      <td>84515</td>\n",
       "      <td>0</td>\n",
       "      <td>1988</td>\n",
       "      <td>0</td>\n",
       "      <td>14</td>\n",
       "      <td>14</td>\n",
       "      <td>8</td>\n",
       "      <td>0</td>\n",
       "      <td>...</td>\n",
       "      <td>1988</td>\n",
       "      <td>2000</td>\n",
       "      <td>2001</td>\n",
       "      <td>1996</td>\n",
       "      <td>1988</td>\n",
       "      <td>14</td>\n",
       "      <td>1988</td>\n",
       "      <td>http://192.168.152.24:8082</td>\n",
       "      <td>/request1</td>\n",
       "      <td>?t=1971</td>\n",
       "    </tr>\n",
       "    <tr>\n",
       "      <th>4</th>\n",
       "      <td>2015-12-01 21:34:29</td>\n",
       "      <td>proxy-mpgw</td>\n",
       "      <td>89202</td>\n",
       "      <td>0</td>\n",
       "      <td>703</td>\n",
       "      <td>0</td>\n",
       "      <td>15</td>\n",
       "      <td>15</td>\n",
       "      <td>9</td>\n",
       "      <td>0</td>\n",
       "      <td>...</td>\n",
       "      <td>703</td>\n",
       "      <td>713</td>\n",
       "      <td>714</td>\n",
       "      <td>710</td>\n",
       "      <td>703</td>\n",
       "      <td>15</td>\n",
       "      <td>703</td>\n",
       "      <td>http://192.168.152.24:8082</td>\n",
       "      <td>/request4</td>\n",
       "      <td>?t=687</td>\n",
       "    </tr>\n",
       "  </tbody>\n",
       "</table>\n",
       "<p>5 rows × 22 columns</p>\n",
       "</div>"
      ],
      "text/plain": [
       "                 Time   ProxyName  TxnID  1     2  3   4   5   6  7   ...     \\\n",
       "0 2015-12-01 21:34:26  proxy-mpgw  84483  0   450  0  18  18  13  0   ...      \n",
       "1 2015-12-01 21:34:28  proxy-mpgw  89186  0   246  0  14  14   9  0   ...      \n",
       "2 2015-12-01 21:34:28  proxy-mpgw  89170  0  1887  0  13  13   7  0   ...      \n",
       "3 2015-12-01 21:34:28  proxy-mpgw  84515  0  1988  0  14  14   8  0   ...      \n",
       "4 2015-12-01 21:34:29  proxy-mpgw  89202  0   703  0  15  15   9  0   ...      \n",
       "\n",
       "     10    11    12    13    14  15    16                         url  \\\n",
       "0   450   462   462   457   450  18   450  http://192.168.152.24:8082   \n",
       "1   246   259   259   254   246  14   246  http://192.168.152.24:8082   \n",
       "2  1887  1900  1900  1896  1887  13  1887  http://192.168.152.24:8082   \n",
       "3  1988  2000  2001  1996  1988  14  1988  http://192.168.152.24:8082   \n",
       "4   703   713   714   710   703  15   703  http://192.168.152.24:8082   \n",
       "\n",
       "         uri        q  \n",
       "0  /request5   ?t=429  \n",
       "1  /request1   ?t=229  \n",
       "2  /request4  ?t=1871  \n",
       "3  /request1  ?t=1971  \n",
       "4  /request4   ?t=687  \n",
       "\n",
       "[5 rows x 22 columns]"
      ]
     },
     "execution_count": 2,
     "metadata": {},
     "output_type": "execute_result"
    }
   ],
   "source": [
    "df1 = pd.read_csv('sample5.csv', parse_dates=['Time'])\n",
    "df1.head()"
   ]
  },
  {
   "cell_type": "markdown",
   "metadata": {},
   "source": [
    "The first issue to address is what to do with 16 columns of times that have\n",
    "[non-intuitive interpretations](https://www.ibm.com/developerworks/community/blogs/HermannSW/entry/latency_messages_in_datapower_appliance21?lang=en).\n",
    "We'll take the simple approach of taking the maximum of all 16 columns\n",
    "for each row and assigning it to a new columns generically named `Latency`."
   ]
  },
  {
   "cell_type": "code",
   "execution_count": 3,
   "metadata": {
    "collapsed": true
   },
   "outputs": [],
   "source": [
    "df1['Latency'] = df1.loc[:,'1':'16'].apply(max, axis=1)"
   ]
  },
  {
   "cell_type": "markdown",
   "metadata": {},
   "source": [
    "The `loc` method indexes the data frame.  The first element specifies rows.\n",
    "The `:` means all rows.  The second element specifies columns.  The expression\n",
    "'1':'16' means columns starting with the column named `1` to the column named\n",
    "`16`.  These are string values (columns names), not integers.\n",
    "\n",
    "The result is a 16-column data frame with all the rows of the original data\n",
    "frame.  The `apply` function applies a function to the data frame.  We chose\n",
    "to apply the `max` function.  By default, it is applied across rows\n",
    "(`axis=0`).  We override this to apply the max across columns, `axis=1`.\n",
    "\n",
    "Let's create a new data frame that abandons the 16 partial values and only\n",
    "includes columns we care about for now."
   ]
  },
  {
   "cell_type": "code",
   "execution_count": 4,
   "metadata": {
    "collapsed": false
   },
   "outputs": [
    {
     "data": {
      "text/html": [
       "<div>\n",
       "<table border=\"1\" class=\"dataframe\">\n",
       "  <thead>\n",
       "    <tr style=\"text-align: right;\">\n",
       "      <th></th>\n",
       "      <th>Time</th>\n",
       "      <th>Latency</th>\n",
       "      <th>TxnID</th>\n",
       "      <th>uri</th>\n",
       "    </tr>\n",
       "  </thead>\n",
       "  <tbody>\n",
       "    <tr>\n",
       "      <th>0</th>\n",
       "      <td>2015-12-01 21:34:26</td>\n",
       "      <td>462</td>\n",
       "      <td>84483</td>\n",
       "      <td>/request5</td>\n",
       "    </tr>\n",
       "    <tr>\n",
       "      <th>1</th>\n",
       "      <td>2015-12-01 21:34:28</td>\n",
       "      <td>259</td>\n",
       "      <td>89186</td>\n",
       "      <td>/request1</td>\n",
       "    </tr>\n",
       "    <tr>\n",
       "      <th>2</th>\n",
       "      <td>2015-12-01 21:34:28</td>\n",
       "      <td>1900</td>\n",
       "      <td>89170</td>\n",
       "      <td>/request4</td>\n",
       "    </tr>\n",
       "    <tr>\n",
       "      <th>3</th>\n",
       "      <td>2015-12-01 21:34:28</td>\n",
       "      <td>2001</td>\n",
       "      <td>84515</td>\n",
       "      <td>/request1</td>\n",
       "    </tr>\n",
       "    <tr>\n",
       "      <th>4</th>\n",
       "      <td>2015-12-01 21:34:29</td>\n",
       "      <td>714</td>\n",
       "      <td>89202</td>\n",
       "      <td>/request4</td>\n",
       "    </tr>\n",
       "  </tbody>\n",
       "</table>\n",
       "</div>"
      ],
      "text/plain": [
       "                 Time  Latency  TxnID        uri\n",
       "0 2015-12-01 21:34:26      462  84483  /request5\n",
       "1 2015-12-01 21:34:28      259  89186  /request1\n",
       "2 2015-12-01 21:34:28     1900  89170  /request4\n",
       "3 2015-12-01 21:34:28     2001  84515  /request1\n",
       "4 2015-12-01 21:34:29      714  89202  /request4"
      ]
     },
     "execution_count": 4,
     "metadata": {},
     "output_type": "execute_result"
    }
   ],
   "source": [
    "df2 = df1.loc[:,['Time', 'Latency', 'TxnID', 'uri']]\n",
    "df2.head()"
   ]
  },
  {
   "cell_type": "markdown",
   "metadata": {},
   "source": [
    "Now we can knock ourselves out with all kinds of graphs at our disposal.\n",
    "Here is a set of box plots grouped by `uri`."
   ]
  },
  {
   "cell_type": "code",
   "execution_count": 5,
   "metadata": {
    "collapsed": false
   },
   "outputs": [
    {
     "data": {
      "text/plain": [
       "<matplotlib.axes._subplots.AxesSubplot at 0x109c38a50>"
      ]
     },
     "execution_count": 5,
     "metadata": {},
     "output_type": "execute_result"
    },
    {
     "data": {
      "image/png": "[encoded data removed]",
      "text/plain": [
       "<matplotlib.figure.Figure at 0x109b95710>"
      ]
     },
     "metadata": {},
     "output_type": "display_data"
    }
   ],
   "source": [
    "df2.boxplot(column=['Latency'], by=['uri'])"
   ]
  },
  {
   "cell_type": "markdown",
   "metadata": {},
   "source": [
    "The response times for the different URI values are similar because each URI sampled the same statistical distribution for the backend times."
   ]
  }
 ],
 "metadata": {
  "kernelspec": {
   "display_name": "Python 2",
   "language": "python",
   "name": "python2"
  },
  "language_info": {
   "codemirror_mode": {
    "name": "ipython",
    "version": 2
   },
   "file_extension": ".py",
   "mimetype": "text/x-python",
   "name": "python",
   "nbconvert_exporter": "python",
   "pygments_lexer": "ipython2",
   "version": "2.7.10"
  }
 },
 "nbformat": 4,
 "nbformat_minor": 0
}
